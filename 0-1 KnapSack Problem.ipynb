{
 "metadata": {
  "language_info": {
   "codemirror_mode": {
    "name": "ipython",
    "version": 3
   },
   "file_extension": ".py",
   "mimetype": "text/x-python",
   "name": "python",
   "nbconvert_exporter": "python",
   "pygments_lexer": "ipython3",
   "version": "3.8.3-final"
  },
  "orig_nbformat": 2,
  "kernelspec": {
   "name": "Python 3.8.3 32-bit",
   "display_name": "Python 3.8.3 32-bit",
   "metadata": {
    "interpreter": {
     "hash": "14cfc843496d7f074bdbf0f5b6a5e7e65767f963c79c440ffd1977ef11a2544d"
    }
   }
  }
 },
 "nbformat": 4,
 "nbformat_minor": 2,
 "cells": [
  {
   "source": [
    " # 0-1 Knapsack Problem using Dynamic Programming "
   ],
   "cell_type": "markdown",
   "metadata": {
    "tags": []
   }
  },
  {
   "cell_type": "code",
   "execution_count": 10,
   "metadata": {
    "tags": []
   },
   "outputs": [
    {
     "output_type": "stream",
     "name": "stdout",
     "text": "Enter each item as weight-value pair\n"
    }
   ],
   "source": [
    "# Each item contains weight-value pair\n",
    "n = int(input(\"Input the number of items\"))\n",
    "\n",
    "# Enter each item as weight-value pair\n",
    "items = []\n",
    "\n",
    "# Result for 0-1 Knapsack\n",
    "result = []\n",
    "\n",
    "print(\"Enter each item as weight-value pair\")\n",
    "for i in range(0,n,1):\n",
    "    weight = int(input())\n",
    "    value = int(input())\n",
    "    item = [weight,value]\n",
    "    items.append(item)\n",
    "    result.append(0)\n",
    "\n",
    "# Enter the knapsack capacity\n",
    "ksum = int(input())\n",
    "\n",
    "# Result for 0-1 Knapsack\n",
    "result = []"
   ]
  },
  {
   "cell_type": "code",
   "execution_count": 23,
   "metadata": {
    "tags": []
   },
   "outputs": [],
   "source": [
    "memo = []\n",
    "\n",
    "# Function to solve Knapsack Problem\n",
    "# Table is created\n",
    "def solveKnapsack(items,n,ksum):\n",
    "    for i in range(0,n+1):\n",
    "        item = []\n",
    "        for j in range(0,ksum+1):\n",
    "            item.append(0)\n",
    "        memo.append(item)\n",
    "\n",
    "    # Value updation using formula\n",
    "    for i in range(1,n+1):\n",
    "        for j in range(1,ksum+1):\n",
    "            if(j-items[i-1][0] >= 0):\n",
    "                memo[i][j] = max(memo[i-1][j], memo[i-1][j-items[i-1][0]] + items[i-1][1])\n",
    "            else:\n",
    "                memo[i][j] = memo[i-1][j]\n",
    "\n",
    "    # Result list containing 0-1\n",
    "    total = memo[n][ksum]\n",
    "\n",
    "    for pos in range(n,0,-1):\n",
    "        if total not in memo[n-pos-1]:\n",
    "            result[n-pos-1] = 1\n",
    "            total -= items[n-pos-1][1]\n",
    "\n"
   ]
  },
  {
   "cell_type": "code",
   "execution_count": null,
   "metadata": {},
   "outputs": [],
   "source": [
    "# Solve Knapsack Problem\n",
    "solveKnapsack(items,n,ksum)    \n",
    "\n",
    "# Print the max value \n",
    "print('Maximum value for knapsack:',memo[n][ksum])"
   ]
  }
 ]
}