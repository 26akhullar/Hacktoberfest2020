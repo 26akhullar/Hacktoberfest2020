{
 "cells": [
  {
   "cell_type": "code",
   "execution_count": 18,
   "metadata": {},
   "outputs": [],
   "source": [
    "mat = [[0,1,0,0,1],\n",
    "       [1,0,1,0,1],\n",
    "       [0,1,0,1,1],\n",
    "       [0,0,1,0,1],\n",
    "       [1,1,1,1,0],\n",
    "      ]\n"
   ]
  },
  {
   "cell_type": "code",
   "execution_count": 19,
   "metadata": {},
   "outputs": [],
   "source": [
    "nodes = [[1,'z'],[2,'z'],[3,'z'],[4,'z'],[5,'z']]\n",
    "color = ['a','b','c','d','e','f']"
   ]
  },
  {
   "cell_type": "code",
   "execution_count": 20,
   "metadata": {},
   "outputs": [
    {
     "name": "stdout",
     "output_type": "stream",
     "text": [
      "[[1, 'a'], [2, 'b'], [3, 'a'], [4, 'b'], [5, 'c']]\n"
     ]
    }
   ],
   "source": [
    "for i in nodes:\n",
    "    for j in color:\n",
    "        flag = True\n",
    "        for pos,k in enumerate(mat[int(i[0])-1]):\n",
    "            if k==1:\n",
    "                if nodes[pos][1] == j:\n",
    "                    flag = False\n",
    "                    break\n",
    "        if flag:\n",
    "            i[1] = j\n",
    "            break\n",
    "        \n",
    "print(nodes)\n",
    "            \n",
    "                \n",
    "        \n",
    "                \n",
    "    "
   ]
  },
  {
   "cell_type": "code",
   "execution_count": null,
   "metadata": {},
   "outputs": [],
   "source": []
  },
  {
   "cell_type": "code",
   "execution_count": null,
   "metadata": {},
   "outputs": [],
   "source": []
  }
 ],
 "metadata": {
  "kernelspec": {
   "display_name": "Python 3",
   "language": "python",
   "name": "python3"
  },
  "language_info": {
   "codemirror_mode": {
    "name": "ipython",
    "version": 3
   },
   "file_extension": ".py",
   "mimetype": "text/x-python",
   "name": "python",
   "nbconvert_exporter": "python",
   "pygments_lexer": "ipython3",
   "version": "3.7.6"
  }
 },
 "nbformat": 4,
 "nbformat_minor": 4
}
